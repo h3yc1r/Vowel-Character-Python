{
  "nbformat": 4,
  "nbformat_minor": 0,
  "metadata": {
    "colab": {
      "provenance": [],
      "authorship_tag": "ABX9TyNOe53kLBlS0QxsLtP3BjMO",
      "include_colab_link": true
    },
    "kernelspec": {
      "name": "python3",
      "display_name": "Python 3"
    },
    "language_info": {
      "name": "python"
    }
  },
  "cells": [
    {
      "cell_type": "markdown",
      "metadata": {
        "id": "view-in-github",
        "colab_type": "text"
      },
      "source": [
        "<a href=\"https://colab.research.google.com/github/h3yc1r/Vowel-Character-Python/blob/main/vowelcharacter.ipynb\" target=\"_parent\"><img src=\"https://colab.research.google.com/assets/colab-badge.svg\" alt=\"Open In Colab\"/></a>"
      ]
    },
    {
      "cell_type": "code",
      "execution_count": null,
      "metadata": {
        "id": "_oZUA5P8Agbg"
      },
      "outputs": [],
      "source": [
        "#Author: Hacer Aflaz\n",
        "#Sesli harf ve sessiz harf sayısı buldurma\n",
        "\n",
        "sh=\"aeıioöuü\"\n",
        "\n",
        "kelime=input(\"İsim giriniz: \")\n",
        "sessiz_harf=0\n",
        "sesli_harf=0\n",
        "\n",
        "for i in kelime:\n",
        "    if i in sh:\n",
        "        sesli_harf+=1\n",
        "\n",
        "    else:\n",
        "        sessiz_harf+=1\n",
        "\n",
        "print(f\"Toplamda  {sessiz_harf}, tane  sessiz harf var. {sesli_harf} tane sesli harf var.\")\n",
        "                "
      ]
    }
  ]
}